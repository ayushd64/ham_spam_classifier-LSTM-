{
 "cells": [
  {
   "cell_type": "markdown",
   "metadata": {},
   "source": [
    "<h2>Importing Libraries</h2>"
   ]
  },
  {
   "cell_type": "code",
   "execution_count": 1,
   "metadata": {},
   "outputs": [],
   "source": [
    "import pandas as pd\n",
    "import numpy as np\n",
    "import re\n",
    "import nltk\n",
    "from nltk.corpus import stopwords\n",
    "from nltk.stem.porter import PorterStemmer\n",
    "from nltk.stem import WordNetLemmatizer\n",
    "from sklearn.model_selection import train_test_split\n",
    "from sklearn.naive_bayes import MultinomialNB\n",
    "from sklearn.metrics import accuracy_score, confusion_matrix\n",
    "from tensorflow.keras.layers import Embedding\n",
    "from tensorflow.keras.preprocessing.sequence import pad_sequences\n",
    "from tensorflow.keras.models import Sequential\n",
    "from tensorflow.keras.preprocessing.text import one_hot\n",
    "from tensorflow.keras.layers import LSTM\n",
    "from tensorflow.keras.layers import Dense\n",
    "from tensorflow.keras.layers import Dropout\n",
    "import matplotlib.pyplot as plt\n",
    "import seaborn as sns"
   ]
  },
  {
   "cell_type": "code",
   "execution_count": 2,
   "metadata": {},
   "outputs": [
    {
     "data": {
      "text/html": [
       "<div>\n",
       "<style scoped>\n",
       "    .dataframe tbody tr th:only-of-type {\n",
       "        vertical-align: middle;\n",
       "    }\n",
       "\n",
       "    .dataframe tbody tr th {\n",
       "        vertical-align: top;\n",
       "    }\n",
       "\n",
       "    .dataframe thead th {\n",
       "        text-align: right;\n",
       "    }\n",
       "</style>\n",
       "<table border=\"1\" class=\"dataframe\">\n",
       "  <thead>\n",
       "    <tr style=\"text-align: right;\">\n",
       "      <th></th>\n",
       "      <th>labels</th>\n",
       "      <th>messages</th>\n",
       "    </tr>\n",
       "  </thead>\n",
       "  <tbody>\n",
       "    <tr>\n",
       "      <th>0</th>\n",
       "      <td>ham</td>\n",
       "      <td>Go until jurong point, crazy.. Available only ...</td>\n",
       "    </tr>\n",
       "    <tr>\n",
       "      <th>1</th>\n",
       "      <td>ham</td>\n",
       "      <td>Ok lar... Joking wif u oni...</td>\n",
       "    </tr>\n",
       "    <tr>\n",
       "      <th>2</th>\n",
       "      <td>spam</td>\n",
       "      <td>Free entry in 2 a wkly comp to win FA Cup fina...</td>\n",
       "    </tr>\n",
       "    <tr>\n",
       "      <th>3</th>\n",
       "      <td>ham</td>\n",
       "      <td>U dun say so early hor... U c already then say...</td>\n",
       "    </tr>\n",
       "    <tr>\n",
       "      <th>4</th>\n",
       "      <td>ham</td>\n",
       "      <td>Nah I don't think he goes to usf, he lives aro...</td>\n",
       "    </tr>\n",
       "  </tbody>\n",
       "</table>\n",
       "</div>"
      ],
      "text/plain": [
       "  labels                                           messages\n",
       "0    ham  Go until jurong point, crazy.. Available only ...\n",
       "1    ham                      Ok lar... Joking wif u oni...\n",
       "2   spam  Free entry in 2 a wkly comp to win FA Cup fina...\n",
       "3    ham  U dun say so early hor... U c already then say...\n",
       "4    ham  Nah I don't think he goes to usf, he lives aro..."
      ]
     },
     "execution_count": 2,
     "metadata": {},
     "output_type": "execute_result"
    }
   ],
   "source": [
    "# reading the data from local directory\n",
    "df = pd.read_csv('SMSSpamCollection', sep=\"\\t\", names=[\"labels\", \"messages\"])\n",
    "df.head()"
   ]
  },
  {
   "cell_type": "markdown",
   "metadata": {},
   "source": [
    "<h2>Data Cleaning</h2>"
   ]
  },
  {
   "cell_type": "code",
   "execution_count": 3,
   "metadata": {},
   "outputs": [
    {
     "data": {
      "text/plain": [
       "(5572, 2)"
      ]
     },
     "execution_count": 3,
     "metadata": {},
     "output_type": "execute_result"
    }
   ],
   "source": [
    "df.shape"
   ]
  },
  {
   "cell_type": "code",
   "execution_count": 4,
   "metadata": {},
   "outputs": [
    {
     "data": {
      "text/plain": [
       "labels      0\n",
       "messages    0\n",
       "dtype: int64"
      ]
     },
     "execution_count": 4,
     "metadata": {},
     "output_type": "execute_result"
    }
   ],
   "source": [
    "df.isna().sum()"
   ]
  },
  {
   "cell_type": "code",
   "execution_count": 5,
   "metadata": {},
   "outputs": [
    {
     "data": {
      "text/plain": [
       "labels      0\n",
       "messages    0\n",
       "dtype: int64"
      ]
     },
     "execution_count": 5,
     "metadata": {},
     "output_type": "execute_result"
    }
   ],
   "source": [
    "df.isnull().sum()"
   ]
  },
  {
   "cell_type": "markdown",
   "metadata": {},
   "source": [
    "<h2>Data Preprocessing</h2>"
   ]
  },
  {
   "cell_type": "code",
   "execution_count": 6,
   "metadata": {},
   "outputs": [],
   "source": [
    "# creating objects for PorterStemmer, WordNetLemmatizer\n",
    "ps = PorterStemmer()\n",
    "lemmatizer = WordNetLemmatizer()\n",
    "# array to store the sentences after removing all the stopwords\n",
    "corpus = []\n",
    "# removing all the stopwords from each sentences\n",
    "for i in df['messages'].values:\n",
    "    sentences = re.sub('[^a-zA-Z]', ' ', i)\n",
    "    sentences = sentences.lower()\n",
    "    sentences = sentences.split()\n",
    "    sentences = [lemmatizer.lemmatize(word) for word in sentences if not word in set(stopwords.words('english'))]\n",
    "    sentences = \" \".join(sentences)\n",
    "    corpus.append(sentences)"
   ]
  },
  {
   "cell_type": "code",
   "execution_count": 7,
   "metadata": {},
   "outputs": [
    {
     "data": {
      "text/plain": [
       "['go jurong point crazy available bugis n great world la e buffet cine got amore wat',\n",
       " 'ok lar joking wif u oni',\n",
       " 'free entry wkly comp win fa cup final tkts st may text fa receive entry question std txt rate c apply',\n",
       " 'u dun say early hor u c already say',\n",
       " 'nah think go usf life around though']"
      ]
     },
     "execution_count": 7,
     "metadata": {},
     "output_type": "execute_result"
    }
   ],
   "source": [
    "# displaying first five sentences in corpus\n",
    "corpus[:5]"
   ]
  },
  {
   "cell_type": "code",
   "execution_count": 8,
   "metadata": {
    "scrolled": true
   },
   "outputs": [
    {
     "data": {
      "text/plain": [
       "[[4585,\n",
       "  1550,\n",
       "  3954,\n",
       "  2423,\n",
       "  3674,\n",
       "  3247,\n",
       "  327,\n",
       "  4998,\n",
       "  4502,\n",
       "  2827,\n",
       "  4575,\n",
       "  3853,\n",
       "  2255,\n",
       "  193,\n",
       "  3414,\n",
       "  1016],\n",
       " [3775, 3130, 3338, 2535, 273, 2103],\n",
       " [4966,\n",
       "  493,\n",
       "  1763,\n",
       "  2877,\n",
       "  3099,\n",
       "  586,\n",
       "  1600,\n",
       "  1564,\n",
       "  2056,\n",
       "  2852,\n",
       "  2599,\n",
       "  4466,\n",
       "  586,\n",
       "  1477,\n",
       "  493,\n",
       "  2903,\n",
       "  4164,\n",
       "  2231,\n",
       "  482,\n",
       "  4331,\n",
       "  2911],\n",
       " [273, 1841, 2901, 4413, 4470, 273, 4331, 1799, 2901],\n",
       " [4349, 1810, 4585, 505, 1334, 4117, 2095]]"
      ]
     },
     "execution_count": 8,
     "metadata": {},
     "output_type": "execute_result"
    }
   ],
   "source": [
    "# For the given problem we willl consider the vocabulary size of 5000\n",
    "vocab_size = 5000\n",
    "# Now we will do the one-hot encoding of corpus sentences\n",
    "oneHot = [one_hot(words, vocab_size) for words in corpus]\n",
    "oneHot[:5]"
   ]
  },
  {
   "cell_type": "code",
   "execution_count": 9,
   "metadata": {},
   "outputs": [
    {
     "name": "stdout",
     "output_type": "stream",
     "text": [
      "[[   0    0    0    0 4585 1550 3954 2423 3674 3247  327 4998 4502 2827\n",
      "  4575 3853 2255  193 3414 1016]\n",
      " [   0    0    0    0    0    0    0    0    0    0    0    0    0    0\n",
      "  3775 3130 3338 2535  273 2103]\n",
      " [ 493 1763 2877 3099  586 1600 1564 2056 2852 2599 4466  586 1477  493\n",
      "  2903 4164 2231  482 4331 2911]\n",
      " [   0    0    0    0    0    0    0    0    0    0    0  273 1841 2901\n",
      "  4413 4470  273 4331 1799 2901]\n",
      " [   0    0    0    0    0    0    0    0    0    0    0    0    0 4349\n",
      "  1810 4585  505 1334 4117 2095]]\n"
     ]
    }
   ],
   "source": [
    "# Embedding Representation\n",
    "# Here we are considering sentence length of 20\n",
    "sent_len = 20\n",
    "# Now we will make all the sentences of one standard length\n",
    "embedded_docs = pad_sequences(oneHot, padding = 'pre', maxlen = sent_len)\n",
    "print(embedded_docs[:5])"
   ]
  },
  {
   "cell_type": "code",
   "execution_count": 10,
   "metadata": {},
   "outputs": [
    {
     "data": {
      "text/plain": [
       "5572"
      ]
     },
     "execution_count": 10,
     "metadata": {},
     "output_type": "execute_result"
    }
   ],
   "source": [
    "len(embedded_docs)"
   ]
  },
  {
   "cell_type": "markdown",
   "metadata": {},
   "source": [
    "<h2>Data Modelling</h2>"
   ]
  },
  {
   "cell_type": "markdown",
   "metadata": {},
   "source": [
    "<h3>DNN - LSTM model</h3>"
   ]
  },
  {
   "cell_type": "code",
   "execution_count": 11,
   "metadata": {},
   "outputs": [],
   "source": [
    "# preparing x and y for our model\n",
    "x = np.array(embedded_docs)\n",
    "y = pd.get_dummies(df['labels'])\n",
    "y = y.iloc[:,1].values"
   ]
  },
  {
   "cell_type": "code",
   "execution_count": 12,
   "metadata": {},
   "outputs": [
    {
     "name": "stdout",
     "output_type": "stream",
     "text": [
      "(5572, 20) (5572,)\n"
     ]
    }
   ],
   "source": [
    "# displaying shapes of x and y \n",
    "print(x.shape, y.shape)"
   ]
  },
  {
   "cell_type": "code",
   "execution_count": 13,
   "metadata": {},
   "outputs": [
    {
     "name": "stdout",
     "output_type": "stream",
     "text": [
      "(4457, 20) (1115, 20) (4457,) (1115,)\n"
     ]
    }
   ],
   "source": [
    "# Dividing the dataset into train and test dataset\n",
    "x_train, x_test, y_train, y_test = train_test_split(x, y, test_size = 0.2, random_state = 42, stratify = y)\n",
    "print(x_train.shape, x_test.shape, y_train.shape, y_test.shape)"
   ]
  },
  {
   "cell_type": "code",
   "execution_count": 14,
   "metadata": {},
   "outputs": [
    {
     "name": "stdout",
     "output_type": "stream",
     "text": [
      "Model: \"sequential\"\n",
      "_________________________________________________________________\n",
      "Layer (type)                 Output Shape              Param #   \n",
      "=================================================================\n",
      "embedding (Embedding)        (None, 20, 40)            200000    \n",
      "_________________________________________________________________\n",
      "dropout (Dropout)            (None, 20, 40)            0         \n",
      "_________________________________________________________________\n",
      "lstm (LSTM)                  (None, 100)               56400     \n",
      "_________________________________________________________________\n",
      "dropout_1 (Dropout)          (None, 100)               0         \n",
      "_________________________________________________________________\n",
      "dense (Dense)                (None, 1)                 101       \n",
      "=================================================================\n",
      "Total params: 256,501\n",
      "Trainable params: 256,501\n",
      "Non-trainable params: 0\n",
      "_________________________________________________________________\n",
      "None\n"
     ]
    }
   ],
   "source": [
    "# model creation\n",
    "# total features for our model will be 40\n",
    "embedding_features = 40\n",
    "# here we are considering sequential model\n",
    "model = Sequential()\n",
    "# adding layers to the model\n",
    "model.add(Embedding(vocab_size, embedding_features, input_length = sent_len))\n",
    "model.add(Dropout(0.3))\n",
    "# adding LSTM layer\n",
    "model.add(LSTM(100))\n",
    "model.add(Dropout(0.3))\n",
    "model.add(Dense(1, activation = 'sigmoid'))\n",
    "model.compile(loss='binary_crossentropy', optimizer='adam', metrics = ['accuracy'])\n",
    "print(model.summary())"
   ]
  },
  {
   "cell_type": "code",
   "execution_count": 15,
   "metadata": {},
   "outputs": [
    {
     "name": "stdout",
     "output_type": "stream",
     "text": [
      "Epoch 1/10\n",
      "56/56 [==============================] - 1s 26ms/step - loss: 0.3487 - accuracy: 0.8830 - val_loss: 0.2079 - val_accuracy: 0.9238\n",
      "Epoch 2/10\n",
      "56/56 [==============================] - 1s 15ms/step - loss: 0.1006 - accuracy: 0.9753 - val_loss: 0.0789 - val_accuracy: 0.9809\n",
      "Epoch 3/10\n",
      "56/56 [==============================] - 1s 15ms/step - loss: 0.0404 - accuracy: 0.9893 - val_loss: 0.0662 - val_accuracy: 0.9787\n",
      "Epoch 4/10\n",
      "56/56 [==============================] - 1s 16ms/step - loss: 0.0252 - accuracy: 0.9919 - val_loss: 0.0637 - val_accuracy: 0.9798\n",
      "Epoch 5/10\n",
      "56/56 [==============================] - 1s 16ms/step - loss: 0.0134 - accuracy: 0.9961 - val_loss: 0.0685 - val_accuracy: 0.9809\n",
      "Epoch 6/10\n",
      "56/56 [==============================] - 1s 17ms/step - loss: 0.0061 - accuracy: 0.9980 - val_loss: 0.0868 - val_accuracy: 0.9798\n",
      "Epoch 7/10\n",
      "56/56 [==============================] - 1s 16ms/step - loss: 0.0080 - accuracy: 0.9980 - val_loss: 0.0858 - val_accuracy: 0.9798\n",
      "Epoch 8/10\n",
      "56/56 [==============================] - 1s 16ms/step - loss: 0.0045 - accuracy: 0.9986 - val_loss: 0.0792 - val_accuracy: 0.9798\n",
      "Epoch 9/10\n",
      "56/56 [==============================] - 1s 16ms/step - loss: 0.0028 - accuracy: 0.9992 - val_loss: 0.0954 - val_accuracy: 0.9787\n",
      "Epoch 10/10\n",
      "56/56 [==============================] - 1s 17ms/step - loss: 0.0021 - accuracy: 0.9994 - val_loss: 0.0892 - val_accuracy: 0.9787\n"
     ]
    }
   ],
   "source": [
    "history = model.fit(x_train, y_train, validation_split = 0.2, shuffle = True, epochs = 10, batch_size = 64)"
   ]
  },
  {
   "cell_type": "code",
   "execution_count": 16,
   "metadata": {},
   "outputs": [
    {
     "data": {
      "image/png": "[encoded data removed]",
      "text/plain": [
       "<Figure size 432x288 with 1 Axes>"
      ]
     },
     "metadata": {
      "needs_background": "light"
     },
     "output_type": "display_data"
    }
   ],
   "source": [
    "plt.plot(history.history['loss'])\n",
    "plt.plot(history.history['val_loss'])\n",
    "plt.title('Model Loss')\n",
    "plt.xlabel('epochs')\n",
    "plt.ylabel('loss')\n",
    "plt.legend([\"train\", \"val\"], loc =\"upper right\")\n",
    "# plt.legend(['train', 'val'], loc = ['upper left'])\n",
    "plt.show()"
   ]
  },
  {
   "cell_type": "markdown",
   "metadata": {},
   "source": [
    "<h2>Performance Metrics and Accuracy</h2>"
   ]
  },
  {
   "cell_type": "code",
   "execution_count": 17,
   "metadata": {},
   "outputs": [
    {
     "name": "stdout",
     "output_type": "stream",
     "text": [
      "WARNING:tensorflow:From <ipython-input-17-73d1e442de7b>:1: Sequential.predict_classes (from tensorflow.python.keras.engine.sequential) is deprecated and will be removed after 2021-01-01.\n",
      "Instructions for updating:\n",
      "Please use instead:* `np.argmax(model.predict(x), axis=-1)`,   if your model does multi-class classification   (e.g. if it uses a `softmax` last-layer activation).* `(model.predict(x) > 0.5).astype(\"int32\")`,   if your model does binary classification   (e.g. if it uses a `sigmoid` last-layer activation).\n",
      "Accuracy score:  0.9847533632286996\n"
     ]
    }
   ],
   "source": [
    "y_pred = model.predict_classes(x_test)\n",
    "cm = confusion_matrix(y_test, y_pred)\n",
    "ac = accuracy_score(y_test, y_pred)\n",
    "print(\"Accuracy score: \", ac)"
   ]
  },
  {
   "cell_type": "code",
   "execution_count": 18,
   "metadata": {},
   "outputs": [
    {
     "data": {
      "image/png": "[encoded data removed]",
      "text/plain": [
       "<Figure size 432x288 with 2 Axes>"
      ]
     },
     "metadata": {
      "needs_background": "light"
     },
     "output_type": "display_data"
    }
   ],
   "source": [
    "# Confusion matrix\n",
    "group_names = ['True Pos', 'False Neg', 'False Pos', 'True Neg']\n",
    "group_counts = cm.flatten()\n",
    "group_percentages = np.round(cm.flatten()/sum(cm.flatten()), 2)\n",
    "labels = [f\"{v1}\\n{v2}\\n{v3}\" for v1, v2, v3 in\n",
    " zip(group_names,group_counts,group_percentages)]\n",
    "labels = np.asarray(labels).reshape(2,2)\n",
    "sns.heatmap(cm, annot=labels, cmap='Blues', fmt='', xticklabels=['ham', 'spam'], yticklabels=['ham', 'spam'])\n",
    "plt.xlabel('Predicted Labels')\n",
    "plt.ylabel('True Labels')\n",
    "plt.show()"
   ]
  },
  {
   "cell_type": "markdown",
   "metadata": {},
   "source": [
    "<h3>Naive Bayes model</h3>"
   ]
  },
  {
   "cell_type": "code",
   "execution_count": 19,
   "metadata": {},
   "outputs": [
    {
     "name": "stdout",
     "output_type": "stream",
     "text": [
      "Accuracy score: 0.8053811659192825\n"
     ]
    }
   ],
   "source": [
    "from sklearn.naive_bayes import MultinomialNB\n",
    "model_nb = MultinomialNB().fit(x_train, y_train)\n",
    "y_pred = model_nb.predict(x_test)\n",
    "ac_nb = accuracy_score(y_test, y_pred)\n",
    "print(\"Accuracy score:\", ac_nb)"
   ]
  },
  {
   "cell_type": "markdown",
   "metadata": {},
   "source": [
    "<h3>SVM model</h3>"
   ]
  },
  {
   "cell_type": "code",
   "execution_count": 20,
   "metadata": {},
   "outputs": [
    {
     "name": "stdout",
     "output_type": "stream",
     "text": [
      "Accuracy score: 0.8798206278026905\n"
     ]
    }
   ],
   "source": [
    "from sklearn.svm import SVC\n",
    "model_svc = SVC(random_state = 43).fit(x_train, y_train)\n",
    "y_pred = model_svc.predict(x_test)\n",
    "ac_svc = accuracy_score(y_test, y_pred)\n",
    "print(\"Accuracy score:\", ac_svc)"
   ]
  },
  {
   "cell_type": "markdown",
   "metadata": {},
   "source": [
    "<h3>Random Forest model</h3>"
   ]
  },
  {
   "cell_type": "code",
   "execution_count": 21,
   "metadata": {},
   "outputs": [
    {
     "name": "stdout",
     "output_type": "stream",
     "text": [
      "Accuracy score: 0.9228699551569507\n"
     ]
    }
   ],
   "source": [
    "from sklearn.ensemble import RandomForestClassifier\n",
    "model_rf = RandomForestClassifier(random_state = 43).fit(x_train, y_train)\n",
    "y_pred = model_rf.predict(x_test)\n",
    "ac_rf = accuracy_score(y_test, y_pred)\n",
    "print(\"Accuracy score:\", ac_rf)"
   ]
  },
  {
   "cell_type": "markdown",
   "metadata": {},
   "source": [
    "<h3>Comparing all models</h3>"
   ]
  },
  {
   "cell_type": "code",
   "execution_count": 22,
   "metadata": {},
   "outputs": [
    {
     "data": {
      "text/html": [
       "<style  type=\"text/css\" >\n",
       "    #T_af726340_4cdb_11eb_9c08_ce511a25fbb8row0_col0 {\n",
       "            background:  lightblue;\n",
       "        }    #T_af726340_4cdb_11eb_9c08_ce511a25fbb8row0_col1 {\n",
       "            background:  lightblue;\n",
       "        }</style><table id=\"T_af726340_4cdb_11eb_9c08_ce511a25fbb8\" ><thead>    <tr>        <th class=\"blank level0\" ></th>        <th class=\"col_heading level0 col0\" >Models</th>        <th class=\"col_heading level0 col1\" >Accuracy</th>    </tr></thead><tbody>\n",
       "                <tr>\n",
       "                        <th id=\"T_af726340_4cdb_11eb_9c08_ce511a25fbb8level0_row0\" class=\"row_heading level0 row0\" >0</th>\n",
       "                        <td id=\"T_af726340_4cdb_11eb_9c08_ce511a25fbb8row0_col0\" class=\"data row0 col0\" >ANN - LSTM</td>\n",
       "                        <td id=\"T_af726340_4cdb_11eb_9c08_ce511a25fbb8row0_col1\" class=\"data row0 col1\" >0.984753</td>\n",
       "            </tr>\n",
       "            <tr>\n",
       "                        <th id=\"T_af726340_4cdb_11eb_9c08_ce511a25fbb8level0_row1\" class=\"row_heading level0 row1\" >1</th>\n",
       "                        <td id=\"T_af726340_4cdb_11eb_9c08_ce511a25fbb8row1_col0\" class=\"data row1 col0\" >Naive Bayes</td>\n",
       "                        <td id=\"T_af726340_4cdb_11eb_9c08_ce511a25fbb8row1_col1\" class=\"data row1 col1\" >0.805381</td>\n",
       "            </tr>\n",
       "            <tr>\n",
       "                        <th id=\"T_af726340_4cdb_11eb_9c08_ce511a25fbb8level0_row2\" class=\"row_heading level0 row2\" >2</th>\n",
       "                        <td id=\"T_af726340_4cdb_11eb_9c08_ce511a25fbb8row2_col0\" class=\"data row2 col0\" >Random Forest</td>\n",
       "                        <td id=\"T_af726340_4cdb_11eb_9c08_ce511a25fbb8row2_col1\" class=\"data row2 col1\" >0.922870</td>\n",
       "            </tr>\n",
       "            <tr>\n",
       "                        <th id=\"T_af726340_4cdb_11eb_9c08_ce511a25fbb8level0_row3\" class=\"row_heading level0 row3\" >3</th>\n",
       "                        <td id=\"T_af726340_4cdb_11eb_9c08_ce511a25fbb8row3_col0\" class=\"data row3 col0\" >SVM</td>\n",
       "                        <td id=\"T_af726340_4cdb_11eb_9c08_ce511a25fbb8row3_col1\" class=\"data row3 col1\" >0.879821</td>\n",
       "            </tr>\n",
       "    </tbody></table>"
      ],
      "text/plain": [
       "<pandas.io.formats.style.Styler at 0x254dcafa8b0>"
      ]
     },
     "metadata": {},
     "output_type": "display_data"
    }
   ],
   "source": [
    "models = [\"ANN - LSTM\", \"Naive Bayes\", \"Random Forest\", \"SVM\"]\n",
    "data = {'Models':models, 'Accuracy':[ac, ac_nb, ac_rf, ac_svc]}\n",
    "dfg = pd.DataFrame(data, columns=['Models',\"Accuracy\"])\n",
    "display(dfg.style.apply(lambda x: ['background: lightblue' if i == max(dfg[\"Accuracy\"]) else '' for i in dfg[\"Accuracy\"]]))"
   ]
  },
  {
   "cell_type": "code",
   "execution_count": null,
   "metadata": {},
   "outputs": [],
   "source": []
  }
 ],
 "metadata": {
  "kernelspec": {
   "display_name": "Python 3",
   "language": "python",
   "name": "python3"
  },
  "language_info": {
   "codemirror_mode": {
    "name": "ipython",
    "version": 3
   },
   "file_extension": ".py",
   "mimetype": "text/x-python",
   "name": "python",
   "nbconvert_exporter": "python",
   "pygments_lexer": "ipython3",
   "version": "3.8.3"
  }
 },
 "nbformat": 4,
 "nbformat_minor": 4
}
